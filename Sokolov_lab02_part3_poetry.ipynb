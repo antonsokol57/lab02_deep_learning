{
  "cells": [
    {
      "cell_type": "markdown",
      "metadata": {
        "id": "XEBeQeabL_xQ"
      },
      "source": [
        "## Lab 2"
      ]
    },
    {
      "cell_type": "markdown",
      "metadata": {
        "id": "CIX7MNghL_xR"
      },
      "source": [
        "### Part 3. Poetry generation\n",
        "\n",
        "Let's try to generate some poetry using RNNs.\n",
        "\n",
        "You have several choices here:\n",
        "\n",
        "* The Shakespeare sonnets, file `sonnets.txt` available in the notebook directory.\n",
        "\n",
        "* Роман в стихах \"Евгений Онегин\" Александра Сергеевича Пушкина. В предобработанном виде доступен по [ссылке](https://github.com/attatrol/data_sources/blob/master/onegin.txt).\n",
        "\n",
        "* Some other text source, if it will be approved by the course staff.\n",
        "\n",
        "Text generation can be designed in several steps:\n",
        "    \n",
        "1. Data loading.\n",
        "2. Dictionary generation.\n",
        "3. Data preprocessing.\n",
        "4. Model (neural network) training.\n",
        "5. Text generation (model evaluation).\n"
      ]
    },
    {
      "cell_type": "code",
      "execution_count": 1,
      "metadata": {
        "id": "7wP3XT0GL_xa"
      },
      "outputs": [],
      "source": [
        "import string\n",
        "import os"
      ]
    },
    {
      "cell_type": "markdown",
      "metadata": {
        "id": "ptp4HTNWL_xb"
      },
      "source": [
        "### Data loading: Shakespeare"
      ]
    },
    {
      "cell_type": "markdown",
      "metadata": {
        "id": "C8CaSwyxL_xb"
      },
      "source": [
        "Shakespeare sonnets are awailable at this [link](http://www.gutenberg.org/ebooks/1041?msg=welcome_stranger). In addition, they are stored in the same directory as this notebook (`sonnetes.txt`). Simple preprocessing is already done for you in the next cell: all technical info is dropped."
      ]
    },
    {
      "cell_type": "code",
      "source": [
        "import urllib.request\n",
        "if not os.path.exists('sonnets.txt'):\n",
        "    url = 'https://raw.githubusercontent.com/girafe-ai/ml-course/23f_basic/homeworks/lab02_deep_learning/sonnets.txt'\n",
        "    filename = 'sonnets.txt'\n",
        "    urllib.request.urlretrieve(url, filename)\n",
        "\n",
        "    print(\"File downloaded successfully.\")\n"
      ],
      "metadata": {
        "colab": {
          "base_uri": "https://localhost:8080/"
        },
        "id": "ecuTThNvVUqa",
        "outputId": "d5414e75-4aab-43ee-dde8-d843063c1ea4"
      },
      "execution_count": 2,
      "outputs": [
        {
          "output_type": "stream",
          "name": "stdout",
          "text": [
            "File downloaded successfully.\n"
          ]
        }
      ]
    },
    {
      "cell_type": "code",
      "execution_count": 3,
      "metadata": {
        "collapsed": true,
        "id": "KqpwenlSL_xb"
      },
      "outputs": [],
      "source": [
        "\n",
        "with open('sonnets.txt', 'r') as iofile:\n",
        "    text = iofile.readlines()\n",
        "\n",
        "TEXT_START = 45\n",
        "TEXT_END = -368\n",
        "text = text[TEXT_START : TEXT_END]\n",
        "assert len(text) == 2616"
      ]
    },
    {
      "cell_type": "markdown",
      "metadata": {
        "id": "3ZS_00SSL_xb"
      },
      "source": [
        "In opposite to the in-class practice, this time we want to predict complex text. Let's reduce the complexity of the task and lowercase all the symbols.\n",
        "\n",
        "Now variable `text` is a list of strings. Join all the strings into one and lowercase it."
      ]
    },
    {
      "cell_type": "code",
      "execution_count": 4,
      "metadata": {
        "colab": {
          "base_uri": "https://localhost:8080/"
        },
        "id": "8x-JtwxiL_xb",
        "outputId": "25a61bc4-be3a-47e8-e3fc-1acbf13057fb"
      },
      "outputs": [
        {
          "output_type": "stream",
          "name": "stdout",
          "text": [
            "OK!\n"
          ]
        }
      ],
      "source": [
        "# Join all the strings into one and lowercase it\n",
        "# Put result into variable text.\n",
        "\n",
        "text = ''.join(text).lower()\n",
        "\n",
        "assert len(text) == 100225, 'Are you sure you have concatenated all the strings?'\n",
        "assert not any([x in set(text) for x in string.ascii_uppercase]), 'Uppercase letters are present'\n",
        "print('OK!')"
      ]
    },
    {
      "cell_type": "markdown",
      "metadata": {
        "id": "nqs3PyXHL_xb"
      },
      "source": [
        "### Data loading: \"Евгений Онегин\"\n"
      ]
    },
    {
      "cell_type": "code",
      "execution_count": 5,
      "metadata": {
        "colab": {
          "base_uri": "https://localhost:8080/"
        },
        "id": "q72eXoo9L_xc",
        "outputId": "f790481e-eb2a-489e-bc8b-18a807b89e4a"
      },
      "outputs": [
        {
          "output_type": "stream",
          "name": "stdout",
          "text": [
            "--2024-12-08 13:17:06--  https://raw.githubusercontent.com/attatrol/data_sources/master/onegin.txt\n",
            "Resolving raw.githubusercontent.com (raw.githubusercontent.com)... 185.199.110.133, 185.199.109.133, 185.199.108.133, ...\n",
            "Connecting to raw.githubusercontent.com (raw.githubusercontent.com)|185.199.110.133|:443... connected.\n",
            "HTTP request sent, awaiting response... 200 OK\n",
            "Length: 262521 (256K) [text/plain]\n",
            "Saving to: ‘onegin.txt’\n",
            "\n",
            "onegin.txt          100%[===================>] 256.37K  --.-KB/s    in 0.02s   \n",
            "\n",
            "2024-12-08 13:17:06 (10.3 MB/s) - ‘onegin.txt’ saved [262521/262521]\n",
            "\n"
          ]
        }
      ],
      "source": [
        "!wget https://raw.githubusercontent.com/attatrol/data_sources/master/onegin.txt\n",
        "\n",
        "with open('onegin.txt', 'r') as iofile:\n",
        "    text = iofile.readlines()\n",
        "\n",
        "text = [x.replace('\\t\\t', '') for x in text]"
      ]
    },
    {
      "cell_type": "markdown",
      "metadata": {
        "id": "zoNSSY-KL_xc"
      },
      "source": [
        "In opposite to the in-class practice, this time we want to predict complex text. Let's reduce the complexity of the task and lowercase all the symbols.\n",
        "\n",
        "Now variable `text` is a list of strings. Join all the strings into one and lowercase it."
      ]
    },
    {
      "cell_type": "code",
      "execution_count": 6,
      "metadata": {
        "colab": {
          "base_uri": "https://localhost:8080/"
        },
        "id": "6ZN4u-6jL_xc",
        "outputId": "f5a40043-3b36-4e9d-ef37-4c98d0186ad6"
      },
      "outputs": [
        {
          "output_type": "stream",
          "name": "stdout",
          "text": [
            "OK!\n"
          ]
        }
      ],
      "source": [
        "# Join all the strings into one and lowercase it\n",
        "# Put result into variable text.\n",
        "\n",
        "text = ''.join(text).lower()\n",
        "\n",
        "assert not any([x in set(text) for x in string.ascii_uppercase]), 'Uppercase letters are present'\n",
        "print('OK!')"
      ]
    },
    {
      "cell_type": "markdown",
      "metadata": {
        "id": "3ToE3XrvL_xc"
      },
      "source": [
        "Put all the characters, that you've seen in the text, into variable `tokens`."
      ]
    },
    {
      "cell_type": "code",
      "execution_count": 7,
      "metadata": {
        "id": "lAi6afVPL_xc"
      },
      "outputs": [],
      "source": [
        "tokens = sorted(set(text))"
      ]
    },
    {
      "cell_type": "markdown",
      "metadata": {
        "id": "Yl28TJZFL_xd"
      },
      "source": [
        "Create dictionary `token_to_idx = {<char>: <index>}` and dictionary `idx_to_token = {<index>: <char>}`"
      ]
    },
    {
      "cell_type": "code",
      "execution_count": 8,
      "metadata": {
        "collapsed": true,
        "colab": {
          "base_uri": "https://localhost:8080/"
        },
        "id": "CxzLQeRtL_xd",
        "outputId": "55b8f792-a668-4866-c5dd-95cb30660084"
      },
      "outputs": [
        {
          "output_type": "stream",
          "name": "stdout",
          "text": [
            "Number of tokens: 83\n"
          ]
        }
      ],
      "source": [
        "# dict <index>:<char>\n",
        "# Your great code here\n",
        "\n",
        "# dict <char>:<index>\n",
        "# Your great code here\n",
        "\n",
        "token_to_idx = {char: idx for idx, char in enumerate(tokens)}\n",
        "idx_to_token = {idx: char for idx, char in enumerate(tokens)}\n",
        "\n",
        "print(f\"Number of tokens: {len(tokens)}\")"
      ]
    },
    {
      "cell_type": "markdown",
      "metadata": {
        "id": "5aHyoPvPL_xd"
      },
      "source": [
        "*Comment: in this task we have only 38 different tokens, so let's use one-hot encoding.*"
      ]
    },
    {
      "cell_type": "markdown",
      "metadata": {
        "id": "mVFDzTAjL_xd"
      },
      "source": [
        "### Building the model"
      ]
    },
    {
      "cell_type": "markdown",
      "metadata": {
        "id": "j3Hh7JUYL_xd"
      },
      "source": [
        "Now we want to build and train recurrent neural net which would be able to something similar to Shakespeare's poetry.\n",
        "\n",
        "Let's use vanilla RNN, similar to the one created during the lesson."
      ]
    },
    {
      "cell_type": "code",
      "execution_count": 9,
      "metadata": {
        "collapsed": true,
        "id": "DptwztxJL_xe"
      },
      "outputs": [],
      "source": [
        "# Your code here\n",
        "\n",
        "import numpy as np\n",
        "\n",
        "def one_hot_encode(index, vocab_size):\n",
        "    one_hot = np.zeros(vocab_size)\n",
        "    one_hot[index] = 1.0\n",
        "    return one_hot\n",
        "\n",
        "import torch\n",
        "import torch.nn as nn\n",
        "import torch.nn.functional as F\n",
        "\n",
        "class CharRNN(nn.Module):\n",
        "    def __init__(self, vocab_size, hidden_size, n_layers=1):\n",
        "        super(CharRNN, self).__init__()\n",
        "        self.hidden_size = hidden_size\n",
        "        self.n_layers = n_layers\n",
        "        self.embedding = nn.Embedding(vocab_size, hidden_size)\n",
        "        self.rnn = nn.RNN(hidden_size, hidden_size, n_layers, batch_first=True)\n",
        "        self.fc = nn.Linear(hidden_size, vocab_size)\n",
        "\n",
        "    def forward(self, x, hidden):\n",
        "        x = self.embedding(x)\n",
        "        out, hidden = self.rnn(x, hidden)\n",
        "        out = self.fc(out)\n",
        "        return out, hidden\n",
        "\n",
        "    def initial_state(self, batch_size):\n",
        "        return torch.zeros(self.n_layers, batch_size, self.hidden_size)"
      ]
    },
    {
      "cell_type": "markdown",
      "metadata": {
        "id": "krA31qrCL_xe"
      },
      "source": [
        "Plot the loss function (axis X: number of epochs, axis Y: loss function)."
      ]
    },
    {
      "cell_type": "code",
      "execution_count": 10,
      "metadata": {
        "collapsed": true,
        "colab": {
          "base_uri": "https://localhost:8080/"
        },
        "id": "w-YzoJhKL_xe",
        "outputId": "2c79ed5e-e1e6-4152-c7dc-5cff5e4aebc1"
      },
      "outputs": [
        {
          "output_type": "stream",
          "name": "stdout",
          "text": [
            "Epoch 1/20, Loss: 4.4589948654174805\n",
            "Epoch 2/20, Loss: 3.8029699325561523\n",
            "Epoch 3/20, Loss: 3.1610982418060303\n",
            "Epoch 4/20, Loss: 2.939105272293091\n",
            "Epoch 5/20, Loss: 2.7809770107269287\n",
            "Epoch 6/20, Loss: 2.686509132385254\n",
            "Epoch 7/20, Loss: 2.6003024578094482\n",
            "Epoch 8/20, Loss: 2.51481032371521\n",
            "Epoch 9/20, Loss: 2.4431517124176025\n",
            "Epoch 10/20, Loss: 2.3757619857788086\n",
            "Epoch 11/20, Loss: 2.3163673877716064\n",
            "Epoch 12/20, Loss: 2.2620019912719727\n",
            "Epoch 13/20, Loss: 2.2071545124053955\n",
            "Epoch 14/20, Loss: 2.1528985500335693\n",
            "Epoch 15/20, Loss: 2.100004196166992\n",
            "Epoch 16/20, Loss: 2.0470075607299805\n",
            "Epoch 17/20, Loss: 1.9953621625900269\n",
            "Epoch 18/20, Loss: 1.9458321332931519\n",
            "Epoch 19/20, Loss: 1.8963110446929932\n",
            "Epoch 20/20, Loss: 1.8455322980880737\n"
          ]
        }
      ],
      "source": [
        "# Your plot code here\n",
        "\n",
        "vocab_size = len(tokens)\n",
        "hidden_size = 128\n",
        "seq_length = 30\n",
        "batch_size = 64\n",
        "epochs = 20\n",
        "lr = 0.01\n",
        "\n",
        "model = CharRNN(vocab_size, hidden_size)\n",
        "criterion = nn.CrossEntropyLoss()\n",
        "optimizer = torch.optim.Adam(model.parameters(), lr=lr)\n",
        "\n",
        "def prepare_batch(text, token_to_idx, seq_length, batch_size):\n",
        "    input_data, target_data = [], []\n",
        "    for i in range(0, len(text) - seq_length, seq_length):\n",
        "        input_seq = text[i:i + seq_length]\n",
        "        target_seq = text[i + 1:i + seq_length + 1]\n",
        "        input_data.append([token_to_idx[char] for char in input_seq])\n",
        "        target_data.append([token_to_idx[char] for char in target_seq])\n",
        "    return torch.tensor(input_data[:batch_size]), torch.tensor(target_data[:batch_size])\n",
        "\n",
        "input_data, target_data = prepare_batch(text, token_to_idx, seq_length, batch_size)\n",
        "\n",
        "import matplotlib.pyplot as plt\n",
        "\n",
        "loss_history = []\n",
        "\n",
        "for epoch in range(epochs):\n",
        "    hidden = model.initial_state(batch_size)\n",
        "    model.train()\n",
        "    optimizer.zero_grad()\n",
        "\n",
        "    output, hidden = model(input_data, hidden)\n",
        "    loss = criterion(output.view(-1, vocab_size), target_data.view(-1))\n",
        "    loss.backward()\n",
        "    optimizer.step()\n",
        "\n",
        "    loss_history.append(loss.item())\n",
        "\n",
        "    print(f\"Epoch {epoch + 1}/{epochs}, Loss: {loss.item()}\")"
      ]
    },
    {
      "cell_type": "code",
      "source": [
        "# Plot the loss function\n",
        "plt.figure(figsize=(8, 6))\n",
        "plt.plot(range(1, epochs + 1), loss_history, marker='o', linestyle='-', color='b')\n",
        "plt.xlabel('Epochs')\n",
        "plt.ylabel('Loss')\n",
        "plt.title('Training Loss Over Epochs')\n",
        "plt.grid()\n",
        "plt.show()"
      ],
      "metadata": {
        "colab": {
          "base_uri": "https://localhost:8080/",
          "height": 564
        },
        "id": "oXIeeEipZ-zm",
        "outputId": "bc3e2750-a25d-40c2-f908-378efd14bd22"
      },
      "execution_count": 11,
      "outputs": [
        {
          "output_type": "display_data",
          "data": {
            "text/plain": [
              "<Figure size 800x600 with 1 Axes>"
            ],
            "image/png": "[encoded data removed]"
          },
          "metadata": {}
        }
      ]
    },
    {
      "cell_type": "code",
      "source": [
        "def generate_text(model, start_str, max_length, temperature):\n",
        "    model.eval()\n",
        "    input_seq = torch.tensor([[token_to_idx[char] for char in start_str]])\n",
        "    hidden = model.initial_state(1)\n",
        "    output_str = start_str\n",
        "\n",
        "    for _ in range(max_length - len(start_str)):\n",
        "        out, hidden = model(input_seq[:, -1:], hidden)\n",
        "        out = F.softmax(out / temperature, dim=-1).data\n",
        "        next_char_idx = torch.multinomial(out[0], 1)[0].item()\n",
        "        next_char = idx_to_token[next_char_idx]\n",
        "        output_str += next_char\n",
        "        input_seq = torch.cat((input_seq, torch.tensor([[next_char_idx]])), dim=1)\n",
        "\n",
        "    return output_str\n",
        "\n",
        "print(generate_text(model, \"shall i\", max_length=1000, temperature=1))"
      ],
      "metadata": {
        "colab": {
          "base_uri": "https://localhost:8080/"
        },
        "id": "RBpy2tlqaQXu",
        "outputId": "af7b9df4-fdd4-4231-8b50-e4c78475c698"
      },
      "execution_count": 12,
      "outputs": [
        {
          "output_type": "stream",
          "name": "stdout",
          "text": [
            "shall ieur,\n",
            "пра.\n",
            "поз могпи лилять макогих, сас ваваном жин сивгуть,\n",
            "еспеен,\n",
            "че дедил мой фрисвсебя:\n",
            "х9^\n",
            "пега гевортя же вкогец ново, гри, сченибь мо подостесваз ору-некась воде же вой, онше;многу продо,\n",
            "для€\n",
            "седний нетил тнонось иленой, поотрим поден ти вызвор дог,\n",
            "грилять ластводо;\n",
            "ла ны,\n",
            ",\n",
            "каз\n",
            "каки кодеть вы\n",
            "monsieur евый мой,\n",
            "мзненя нажетя ленего мемудузгатнокон ски ескодриньмузки дегонецумалько такых.\n",
            "стеныхражежлогихц.\n",
            "ме ниv\n",
            "\n",
            "\n",
            "\n",
            "iф\n",
            "\n",
            "v\n",
            "\n",
            "востьногдаки зазбылись бажес мноть и lоде\n",
            "но лим.\n",
            "ебвалить,\n",
            "урисудь,\n",
            "м’abбя мовнемя нутья не;\n",
            "лранод наку рсегин, вое манемовслевил,\n",
            "пора, сл недреной узпочех эпична!\n",
            "неках был;\n",
            "лей,\n",
            "сленалью заль и был мой поз.\n",
            "дать и еведгих\n",
            "(ся сперонь ивкуост звоеждал\n",
            "без трить и нестра;\n",
            "так пр ураан могдиня зоою жевына:\n",
            "я,\n",
            "пиолосдет,\n",
            "мой, ни батв ререднам поге, воредил сногка шутринномузь и орез, мородно,\n",
            "не дрон мосеньсьбый при негкогней мой,\n",
            "подой сулять о, праной, яля бле воеммо кокудкугдать дилонегразто инец исенье мой,, саовер евреньмет чегоснасумать и но \n"
          ]
        }
      ]
    },
    {
      "cell_type": "code",
      "execution_count": 13,
      "metadata": {
        "id": "IuBd7jIVL_xe"
      },
      "outputs": [],
      "source": [
        "MAX_LENGTH = 100\n",
        "def generate_sample(char_rnn, seed_phrase=' Hello', max_length=MAX_LENGTH, temperature=1.0):\n",
        "    '''\n",
        "    ### Disclaimer: this is an example function for text generation.\n",
        "    ### You can either adapt it in your code or create your own function\n",
        "\n",
        "    The function generates text given a phrase of length at least SEQ_LENGTH.\n",
        "    :param seed_phrase: prefix characters. The RNN is asked to continue the phrase\n",
        "    :param max_length: maximum output length, including seed_phrase\n",
        "    :param temperature: coefficient for sampling.  higher temperature produces more chaotic outputs,\n",
        "        smaller temperature converges to the single most likely output.\n",
        "\n",
        "    Be careful with the model output. This model waits logits (not probabilities/log-probabilities)\n",
        "    of the next symbol.\n",
        "    '''\n",
        "\n",
        "    x_sequence = [token_to_id[token] for token in seed_phrase]\n",
        "    x_sequence = torch.tensor([[x_sequence]], dtype=torch.int64)\n",
        "    hid_state = char_rnn.initial_state(batch_size=1)\n",
        "\n",
        "    #feed the seed phrase, if any\n",
        "    for i in range(len(seed_phrase) - 1):\n",
        "        print(x_sequence[:, -1].shape, hid_state.shape)\n",
        "        out, hid_state = char_rnn(x_sequence[:, i], hid_state)\n",
        "\n",
        "    #start generating\n",
        "    for _ in range(max_length - len(seed_phrase)):\n",
        "        print(x_sequence.shape, x_sequence, hid_state.shape)\n",
        "        out, hid_state = char_rnn(x_sequence[:, -1], hid_state)\n",
        "        # Be really careful here with the model output\n",
        "        p_next = F.softmax(out / temperature, dim=-1).data.numpy()[0]\n",
        "\n",
        "        # sample next token and push it back into x_sequence\n",
        "        print(p_next.shape, len(tokens))\n",
        "        next_ix = np.random.choice(len(tokens), p=p_next)\n",
        "        next_ix = torch.tensor([[next_ix]], dtype=torch.int64)\n",
        "        print(x_sequence.shape, next_ix.shape)\n",
        "        x_sequence = torch.cat([x_sequence, next_ix], dim=1)\n",
        "\n",
        "    return ''.join([tokens[ix] for ix in x_sequence.data.numpy()[0]])"
      ]
    },
    {
      "cell_type": "code",
      "execution_count": 14,
      "metadata": {
        "id": "-53VgQ8BL_xe"
      },
      "outputs": [],
      "source": [
        "# An example of generated text.\n",
        "# print(generate_text(length=500, temperature=0.2))"
      ]
    },
    {
      "cell_type": "markdown",
      "metadata": {
        "id": "850Fa0-KL_xf"
      },
      "source": [
        "### More poetic model\n",
        "\n",
        "Let's use LSTM instead of vanilla RNN and compare the results."
      ]
    },
    {
      "cell_type": "markdown",
      "metadata": {
        "id": "P-twLRFtL_xf"
      },
      "source": [
        "Plot the loss function of the number of epochs. Does the final loss become better?"
      ]
    },
    {
      "cell_type": "code",
      "execution_count": 15,
      "metadata": {
        "collapsed": true,
        "colab": {
          "base_uri": "https://localhost:8080/",
          "height": 1000
        },
        "id": "iw4BQI9ZL_xf",
        "outputId": "ad2e9d9e-b03e-47c0-f710-5d9e4ee1d6c1"
      },
      "outputs": [
        {
          "output_type": "stream",
          "name": "stdout",
          "text": [
            "Epoch 1 Loss: 4.41981840133667\n",
            "Epoch 2 Loss: 4.377956867218018\n",
            "Epoch 3 Loss: 4.3100266456604\n",
            "Epoch 4 Loss: 4.139773368835449\n",
            "Epoch 5 Loss: 3.7292943000793457\n",
            "Epoch 6 Loss: 3.6116456985473633\n",
            "Epoch 7 Loss: 3.4702699184417725\n",
            "Epoch 8 Loss: 3.4216206073760986\n",
            "Epoch 9 Loss: 3.4190855026245117\n",
            "Epoch 10 Loss: 3.399625539779663\n",
            "Epoch 11 Loss: 3.360839366912842\n",
            "Epoch 12 Loss: 3.3211207389831543\n",
            "Epoch 13 Loss: 3.2903380393981934\n",
            "Epoch 14 Loss: 3.2668378353118896\n",
            "Epoch 15 Loss: 3.24202823638916\n",
            "Epoch 16 Loss: 3.210866689682007\n",
            "Epoch 17 Loss: 3.1789512634277344\n",
            "Epoch 18 Loss: 3.1394174098968506\n",
            "Epoch 19 Loss: 3.0989081859588623\n",
            "Epoch 20 Loss: 3.0571229457855225\n",
            "Epoch 21 Loss: 3.0149741172790527\n",
            "Epoch 22 Loss: 2.9722673892974854\n",
            "Epoch 23 Loss: 2.9317314624786377\n",
            "Epoch 24 Loss: 2.891728401184082\n",
            "Epoch 25 Loss: 2.855181932449341\n",
            "Epoch 26 Loss: 2.8174901008605957\n",
            "Epoch 27 Loss: 2.7833251953125\n",
            "Epoch 28 Loss: 2.7528836727142334\n",
            "Epoch 29 Loss: 2.726147413253784\n",
            "Epoch 30 Loss: 2.7008779048919678\n",
            "Epoch 31 Loss: 2.6769156455993652\n",
            "Epoch 32 Loss: 2.6548142433166504\n",
            "Epoch 33 Loss: 2.632830858230591\n",
            "Epoch 34 Loss: 2.6112935543060303\n",
            "Epoch 35 Loss: 2.590087413787842\n",
            "Epoch 36 Loss: 2.5698537826538086\n",
            "Epoch 37 Loss: 2.5509233474731445\n",
            "Epoch 38 Loss: 2.5330703258514404\n",
            "Epoch 39 Loss: 2.515803098678589\n",
            "Epoch 40 Loss: 2.4987218379974365\n",
            "Epoch 41 Loss: 2.4816606044769287\n",
            "Epoch 42 Loss: 2.464806318283081\n",
            "Epoch 43 Loss: 2.447733163833618\n",
            "Epoch 44 Loss: 2.4309966564178467\n",
            "Epoch 45 Loss: 2.4144930839538574\n",
            "Epoch 46 Loss: 2.3979530334472656\n",
            "Epoch 47 Loss: 2.38124418258667\n",
            "Epoch 48 Loss: 2.3643720149993896\n",
            "Epoch 49 Loss: 2.3472695350646973\n",
            "Epoch 50 Loss: 2.3299918174743652\n",
            "Epoch 51 Loss: 2.3130743503570557\n",
            "Epoch 52 Loss: 2.3000030517578125\n",
            "Epoch 53 Loss: 2.292733669281006\n",
            "Epoch 54 Loss: 2.266570568084717\n",
            "Epoch 55 Loss: 2.250239849090576\n",
            "Epoch 56 Loss: 2.2361204624176025\n",
            "Epoch 57 Loss: 2.21349835395813\n",
            "Epoch 58 Loss: 2.2019057273864746\n",
            "Epoch 59 Loss: 2.1782660484313965\n",
            "Epoch 60 Loss: 2.1671738624572754\n",
            "Epoch 61 Loss: 2.143418550491333\n",
            "Epoch 62 Loss: 2.130784511566162\n",
            "Epoch 63 Loss: 2.109534502029419\n",
            "Epoch 64 Loss: 2.09315824508667\n",
            "Epoch 65 Loss: 2.074714422225952\n",
            "Epoch 66 Loss: 2.055013656616211\n",
            "Epoch 67 Loss: 2.038267135620117\n",
            "Epoch 68 Loss: 2.017106294631958\n",
            "Epoch 69 Loss: 1.9995187520980835\n",
            "Epoch 70 Loss: 1.9796655178070068\n",
            "Epoch 71 Loss: 1.9584548473358154\n",
            "Epoch 72 Loss: 1.9407799243927002\n",
            "Epoch 73 Loss: 1.9187027215957642\n",
            "Epoch 74 Loss: 1.8966901302337646\n",
            "Epoch 75 Loss: 1.8768484592437744\n",
            "Epoch 76 Loss: 1.8561692237854004\n",
            "Epoch 77 Loss: 1.8345897197723389\n",
            "Epoch 78 Loss: 1.811522364616394\n",
            "Epoch 79 Loss: 1.7879462242126465\n",
            "Epoch 80 Loss: 1.7636727094650269\n",
            "Epoch 81 Loss: 1.7412889003753662\n",
            "Epoch 82 Loss: 1.721130609512329\n",
            "Epoch 83 Loss: 1.7085858583450317\n",
            "Epoch 84 Loss: 1.7080508470535278\n",
            "Epoch 85 Loss: 1.662658452987671\n",
            "Epoch 86 Loss: 1.653693437576294\n",
            "Epoch 87 Loss: 1.6204719543457031\n",
            "Epoch 88 Loss: 1.5941598415374756\n",
            "Epoch 89 Loss: 1.5749595165252686\n",
            "Epoch 90 Loss: 1.5461618900299072\n",
            "Epoch 91 Loss: 1.5233176946640015\n",
            "Epoch 92 Loss: 1.498306393623352\n",
            "Epoch 93 Loss: 1.4740431308746338\n",
            "Epoch 94 Loss: 1.4503380060195923\n",
            "Epoch 95 Loss: 1.4240491390228271\n",
            "Epoch 96 Loss: 1.402388334274292\n",
            "Epoch 97 Loss: 1.3735466003417969\n",
            "Epoch 98 Loss: 1.3555753231048584\n",
            "Epoch 99 Loss: 1.3251051902770996\n",
            "Epoch 100 Loss: 1.3083999156951904\n",
            "Epoch 101 Loss: 1.2781111001968384\n",
            "Epoch 102 Loss: 1.2613825798034668\n",
            "Epoch 103 Loss: 1.2419546842575073\n",
            "Epoch 104 Loss: 1.2335306406021118\n",
            "Epoch 105 Loss: 1.1925714015960693\n",
            "Epoch 106 Loss: 1.1881422996520996\n",
            "Epoch 107 Loss: 1.1767535209655762\n",
            "Epoch 108 Loss: 1.1357512474060059\n",
            "Epoch 109 Loss: 1.1142964363098145\n",
            "Epoch 110 Loss: 1.0902811288833618\n",
            "Epoch 111 Loss: 1.069833517074585\n",
            "Epoch 112 Loss: 1.0457096099853516\n",
            "Epoch 113 Loss: 1.0184968709945679\n",
            "Epoch 114 Loss: 1.007874608039856\n",
            "Epoch 115 Loss: 0.9702050685882568\n",
            "Epoch 116 Loss: 0.9628522992134094\n",
            "Epoch 117 Loss: 0.9295594096183777\n",
            "Epoch 118 Loss: 0.9159125685691833\n",
            "Epoch 119 Loss: 0.8900875449180603\n",
            "Epoch 120 Loss: 0.8710907101631165\n",
            "Epoch 121 Loss: 0.8516693115234375\n",
            "Epoch 122 Loss: 0.8286080956459045\n",
            "Epoch 123 Loss: 0.8114628195762634\n",
            "Epoch 124 Loss: 0.7930478453636169\n",
            "Epoch 125 Loss: 0.7776815891265869\n",
            "Epoch 126 Loss: 0.7731616497039795\n",
            "Epoch 127 Loss: 0.7531712651252747\n",
            "Epoch 128 Loss: 0.7282220125198364\n",
            "Epoch 129 Loss: 0.7045853734016418\n",
            "Epoch 130 Loss: 0.6931243538856506\n",
            "Epoch 131 Loss: 0.6755724549293518\n",
            "Epoch 132 Loss: 0.6558608412742615\n",
            "Epoch 133 Loss: 0.6433247327804565\n",
            "Epoch 134 Loss: 0.624208390712738\n",
            "Epoch 135 Loss: 0.6055879592895508\n",
            "Epoch 136 Loss: 0.5940015912055969\n",
            "Epoch 137 Loss: 0.5743226408958435\n",
            "Epoch 138 Loss: 0.5610626339912415\n",
            "Epoch 139 Loss: 0.5454903244972229\n",
            "Epoch 140 Loss: 0.5306574106216431\n",
            "Epoch 141 Loss: 0.51603764295578\n",
            "Epoch 142 Loss: 0.5039059519767761\n",
            "Epoch 143 Loss: 0.4902680516242981\n",
            "Epoch 144 Loss: 0.47807157039642334\n",
            "Epoch 145 Loss: 0.4796890318393707\n",
            "Epoch 146 Loss: 0.532974898815155\n",
            "Epoch 147 Loss: 0.5086046457290649\n",
            "Epoch 148 Loss: 0.47689157724380493\n",
            "Epoch 149 Loss: 0.46282100677490234\n",
            "Epoch 150 Loss: 0.45430269837379456\n",
            "Epoch 151 Loss: 0.4254509210586548\n",
            "Epoch 152 Loss: 0.42801734805107117\n",
            "Epoch 153 Loss: 0.4025684893131256\n",
            "Epoch 154 Loss: 0.3967069387435913\n",
            "Epoch 155 Loss: 0.38424912095069885\n",
            "Epoch 156 Loss: 0.3716564178466797\n",
            "Epoch 157 Loss: 0.36134055256843567\n",
            "Epoch 158 Loss: 0.3508436381816864\n",
            "Epoch 159 Loss: 0.3411146104335785\n",
            "Epoch 160 Loss: 0.3318379819393158\n",
            "Epoch 161 Loss: 0.32268717885017395\n",
            "Epoch 162 Loss: 0.3136226236820221\n",
            "Epoch 163 Loss: 0.3040594756603241\n",
            "Epoch 164 Loss: 0.2989707589149475\n",
            "Epoch 165 Loss: 0.28789594769477844\n",
            "Epoch 166 Loss: 0.28171631693840027\n",
            "Epoch 167 Loss: 0.2742917835712433\n",
            "Epoch 168 Loss: 0.26642906665802\n",
            "Epoch 169 Loss: 0.2612267732620239\n",
            "Epoch 170 Loss: 0.25343072414398193\n",
            "Epoch 171 Loss: 0.24754680693149567\n",
            "Epoch 172 Loss: 0.24200080335140228\n",
            "Epoch 173 Loss: 0.2353973537683487\n",
            "Epoch 174 Loss: 0.23012639582157135\n",
            "Epoch 175 Loss: 0.22472940385341644\n",
            "Epoch 176 Loss: 0.21953102946281433\n",
            "Epoch 177 Loss: 0.21436555683612823\n",
            "Epoch 178 Loss: 0.20949624478816986\n",
            "Epoch 179 Loss: 0.2047600895166397\n",
            "Epoch 180 Loss: 0.20048479735851288\n",
            "Epoch 181 Loss: 0.19606594741344452\n",
            "Epoch 182 Loss: 0.19191981852054596\n",
            "Epoch 183 Loss: 0.18794628977775574\n",
            "Epoch 184 Loss: 0.18379537761211395\n",
            "Epoch 185 Loss: 0.18035000562667847\n",
            "Epoch 186 Loss: 0.1765577793121338\n",
            "Epoch 187 Loss: 0.17314106225967407\n",
            "Epoch 188 Loss: 0.16971829533576965\n",
            "Epoch 189 Loss: 0.1664147973060608\n",
            "Epoch 190 Loss: 0.16334253549575806\n",
            "Epoch 191 Loss: 0.16033905744552612\n",
            "Epoch 192 Loss: 0.15747502446174622\n",
            "Epoch 193 Loss: 0.1549447923898697\n",
            "Epoch 194 Loss: 0.15236899256706238\n",
            "Epoch 195 Loss: 0.15002687275409698\n",
            "Epoch 196 Loss: 0.14776240289211273\n",
            "Epoch 197 Loss: 0.14550209045410156\n",
            "Epoch 198 Loss: 0.1429680436849594\n",
            "Epoch 199 Loss: 0.14021147787570953\n",
            "Epoch 200 Loss: 0.13784345984458923\n"
          ]
        },
        {
          "output_type": "display_data",
          "data": {
            "text/plain": [
              "<Figure size 800x600 with 1 Axes>"
            ],
            "image/png": "[encoded data removed]"
          },
          "metadata": {}
        }
      ],
      "source": [
        "# Your beautiful code here\n",
        "\n",
        "class CharLSTM(nn.Module):\n",
        "    def __init__(self, vocab_size, hidden_size, n_layers=1):\n",
        "        super(CharLSTM, self).__init__()\n",
        "        self.hidden_size = hidden_size\n",
        "        self.n_layers = n_layers\n",
        "        self.embedding = nn.Embedding(vocab_size, hidden_size)\n",
        "        self.lstm = nn.LSTM(hidden_size, hidden_size, n_layers, batch_first=True)\n",
        "        self.fc = nn.Linear(hidden_size, vocab_size)\n",
        "\n",
        "    def forward(self, x, hidden):\n",
        "        x = self.embedding(x)\n",
        "        out, hidden = self.lstm(x, hidden)\n",
        "        out = self.fc(out)\n",
        "\n",
        "        return out, hidden\n",
        "\n",
        "    def initial_state(self, batch_size):\n",
        "        return (torch.zeros(self.n_layers, batch_size, self.hidden_size),\n",
        "                torch.zeros(self.n_layers, batch_size, self.hidden_size))\n",
        "    def initialize_weights(self):\n",
        "        for name, param in self.named_parameters():\n",
        "            if 'weight' in name:\n",
        "                nn.init.xavier_uniform_(param)\n",
        "            elif 'bias' in name:\n",
        "                nn.init.zeros_(param)\n",
        "\n",
        "vocab_size = len(tokens)\n",
        "hidden_size = 128\n",
        "seq_length = 30\n",
        "batch_size = 64\n",
        "epochs = 200\n",
        "lr = 0.005\n",
        "\n",
        "model = CharLSTM(vocab_size, hidden_size)\n",
        "criterion = nn.CrossEntropyLoss()\n",
        "optimizer = torch.optim.Adam(model.parameters(), lr=lr)\n",
        "\n",
        "input_data, target_data = prepare_batch(text, token_to_idx, seq_length, batch_size)\n",
        "\n",
        "model.initialize_weights()\n",
        "\n",
        "loss_history = []\n",
        "\n",
        "for epoch in range(epochs):\n",
        "    hidden = model.initial_state(batch_size)\n",
        "    model.train()\n",
        "    optimizer.zero_grad()\n",
        "\n",
        "    output, hidden = model(input_data, hidden)\n",
        "\n",
        "    output = output.view(-1, vocab_size)\n",
        "    target_data = target_data.view(-1)\n",
        "\n",
        "    loss = criterion(output, target_data)\n",
        "\n",
        "    loss.backward()\n",
        "\n",
        "    torch.nn.utils.clip_grad_norm_(model.parameters(), max_norm=5)\n",
        "\n",
        "    optimizer.step()\n",
        "\n",
        "    loss_history.append(loss.item())\n",
        "    print(f\"Epoch {epoch + 1} Loss: {loss.item()}\")\n",
        "\n",
        "plt.figure(figsize=(8, 6))\n",
        "plt.plot(range(1, epochs + 1), loss_history, marker='o', linestyle='-', color='b')\n",
        "plt.xlabel('Epochs')\n",
        "plt.ylabel('Loss')\n",
        "plt.title('Training Loss Over Epochs (LSTM)')\n",
        "plt.grid()\n",
        "plt.show()"
      ]
    },
    {
      "cell_type": "markdown",
      "metadata": {
        "id": "9TCiMlgjL_xf"
      },
      "source": [
        "Generate text using the trained net with different `temperature` parameter: `[0.1, 0.2, 0.5, 1.0, 2.0]`.\n",
        "\n",
        "Evaluate the results visually, try to interpret them."
      ]
    },
    {
      "cell_type": "code",
      "execution_count": 16,
      "metadata": {
        "collapsed": true,
        "colab": {
          "base_uri": "https://localhost:8080/"
        },
        "id": "DM-qRYFOL_xf",
        "outputId": "e3e380e1-7797-401f-d453-a44fbe210396"
      },
      "outputs": [
        {
          "output_type": "stream",
          "name": "stdout",
          "text": [
            "Generated Text (Temperature 0.1):\n",
            "shall ieur l’abbe€, француз убогой,\n",
            "деласи умали но боля не манил,\n",
            "чтогу,\n",
            "не вогка гулял сивеги лост\n",
            "========================================\n",
            "Generated Text (Temperature 0.2):\n",
            "shall ieur l’abbe€, француз убогой,\n",
            "дела мил.\n",
            "monsieur ее сменил;\n",
            "рора безным о позаломой,\n",
            "до, бала \n",
            "========================================\n",
            "Generated Text (Temperature 0.5):\n",
            "shall ieur l’abbe€, француз убогой,\n",
            "дела севгеро,\n",
            "слегка,\n",
            "суждем нила нежной неденной\n",
            "певгенили в ре\n",
            "========================================\n",
            "Generated Text (Temperature 1.0):\n",
            "shall ieur l’abbe€, француи встум долидь знисуть прил намить, не но мо ил,\n",
            "илчале? н водатку закался\n",
            "========================================\n",
            "Generated Text (Temperature 2.0):\n",
            "shall ieuur чf’ятьеннымг\n",
            "он учей недмны чыдел, труждатьты.\n",
            "пру-фрак-daasзыл, вожтхоинно писпгегу зся\n",
            "========================================\n"
          ]
        }
      ],
      "source": [
        "# Text generation with different temperature values here\n",
        "\n",
        "def generate_text(model, start_str, max_length, temperature=1.0):\n",
        "    model.eval()\n",
        "    input_seq = torch.tensor([[token_to_idx[char] for char in start_str]])\n",
        "    hidden = model.initial_state(1)\n",
        "    output_str = start_str\n",
        "\n",
        "    for _ in range(max_length - len(start_str)):\n",
        "        out, hidden = model(input_seq[:, -1:], hidden)\n",
        "        out = F.softmax(out / temperature, dim=-1).data\n",
        "        next_char_idx = torch.multinomial(out[0], 1)[0].item()\n",
        "        next_char = idx_to_token[next_char_idx]\n",
        "        output_str += next_char\n",
        "        input_seq = torch.cat((input_seq, torch.tensor([[next_char_idx]])), dim=1)\n",
        "\n",
        "    return output_str\n",
        "\n",
        "temperature_values = [0.1, 0.2, 0.5, 1.0, 2.0]\n",
        "for temp in temperature_values:\n",
        "    generated_text = generate_text(model, \"shall i\", max_length=100, temperature=temp)\n",
        "    print(f\"Generated Text (Temperature {temp}):\\n{generated_text}\\n{'='*40}\")\n"
      ]
    },
    {
      "cell_type": "markdown",
      "metadata": {
        "id": "kQeXP2cVL_xf"
      },
      "source": [
        "### Saving and loading models"
      ]
    },
    {
      "cell_type": "markdown",
      "metadata": {
        "id": "Qe5KH777L_xf"
      },
      "source": [
        "Save the model to the disk, then load it and generate text. Examples are available [here](https://pytorch.org/tutorials/beginner/saving_loading_models.html])."
      ]
    },
    {
      "cell_type": "code",
      "execution_count": 17,
      "metadata": {
        "collapsed": true,
        "colab": {
          "base_uri": "https://localhost:8080/"
        },
        "id": "_ylQRpfxL_xf",
        "outputId": "82e9e135-c460-4a97-aeb1-2cee711c8cd7"
      },
      "outputs": [
        {
          "output_type": "stream",
          "name": "stdout",
          "text": [
            "Generated Text (Loaded Model):\n",
            "the quickла,\n",
            "полетви ниденья но важелюде взниси попемужен свебой,\n",
            "до,\n",
            "кака беже продя ме,\n",
            "не кчанил \n"
          ]
        },
        {
          "output_type": "stream",
          "name": "stderr",
          "text": [
            "<ipython-input-17-c6b379986a04>:4: FutureWarning: You are using `torch.load` with `weights_only=False` (the current default value), which uses the default pickle module implicitly. It is possible to construct malicious pickle data which will execute arbitrary code during unpickling (See https://github.com/pytorch/pytorch/blob/main/SECURITY.md#untrusted-models for more details). In a future release, the default value for `weights_only` will be flipped to `True`. This limits the functions that could be executed during unpickling. Arbitrary objects will no longer be allowed to be loaded via this mode unless they are explicitly allowlisted by the user via `torch.serialization.add_safe_globals`. We recommend you start setting `weights_only=True` for any use case where you don't have full control of the loaded file. Please open an issue on GitHub for any issues related to this experimental feature.\n",
            "  model.load_state_dict(torch.load('char_lstm_model.pth'))\n"
          ]
        }
      ],
      "source": [
        "torch.save(model.state_dict(), 'char_lstm_model.pth')\n",
        "\n",
        "model = CharLSTM(vocab_size, hidden_size)\n",
        "model.load_state_dict(torch.load('char_lstm_model.pth'))\n",
        "model.eval()\n",
        "\n",
        "\n",
        "generated_text = generate_text(model, \"the quick\", max_length=100, temperature=1.0)\n",
        "print(f\"Generated Text (Loaded Model):\\n{generated_text}\")\n"
      ]
    },
    {
      "cell_type": "markdown",
      "metadata": {
        "id": "f72J7rPFL_xg"
      },
      "source": [
        "### References\n",
        "1. <a href='http://karpathy.github.io/2015/05/21/rnn-effectiveness/'> Andrew Karpathy blog post about RNN. </a>\n",
        "There are several examples of genration: Shakespeare texts, Latex formulas, Linux Sourse Code and children names.\n",
        "2. <a href='https://github.com/karpathy/char-rnn'> Repo with char-rnn code </a>\n",
        "3. Cool repo with PyTorch examples: [link](https://github.com/spro/practical-pytorch`)"
      ]
    }
  ],
  "metadata": {
    "anaconda-cloud": {},
    "kernelspec": {
      "display_name": "Python 3",
      "language": "python",
      "name": "python3"
    },
    "language_info": {
      "codemirror_mode": {
        "name": "ipython",
        "version": 3
      },
      "file_extension": ".py",
      "mimetype": "text/x-python",
      "name": "python",
      "nbconvert_exporter": "python",
      "pygments_lexer": "ipython3",
      "version": "3.7.7"
    },
    "colab": {
      "provenance": []
    }
  },
  "nbformat": 4,
  "nbformat_minor": 0
}